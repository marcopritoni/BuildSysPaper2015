{
 "cells": [
  {
   "cell_type": "code",
   "execution_count": 7,
   "metadata": {
    "collapsed": false
   },
   "outputs": [
    {
     "name": "stdout",
     "output_type": "stream",
     "text": [
      "SHELL BEGIN\n",
      "HEAT TESTING\n",
      "<Response [200]>\n",
      "TURNING IT OFF\n",
      "HEAT TESTING\n",
      "<Response [200]>\n",
      "exited loop\n",
      "SHELL END\n"
     ]
    }
   ],
   "source": [
    "import requests\n",
    "from datetime import datetime, date, time, tzinfo\n",
    "import time\n",
    "from random import randint\n",
    "print(\"SHELL BEGIN\")\n",
    "\n",
    "choice = 0\n",
    "\n",
    "X = 0\n",
    "\n",
    "while X < 3:\n",
    "#startTime = datetime.now().time()\n",
    "#print startTime\n",
    "#minute = startTime.minute\n",
    "#print minute\n",
    "    if choice ==0:\n",
    "        print \"HEAT TESTING\"\n",
    "        requests.put('http://52.8.2.68:8080/data/imt550c0/hvac_mode_act?state=1')\n",
    "        print requests.put('http://52.8.2.68:8080/data/imt550c0/temp_heat_act?state=90')\n",
    "    if choice ==1:\n",
    "        print \"COOL TESTING\"\n",
    "        requests.put('http://52.8.2.68:8080/data/imt550c0/hvac_mode_act?state=2')\n",
    "        requests.put('http://52.8.2.68:8080/data/imt550c0/temp_cool_act?state=60')\n",
    "    if choice ==2:\n",
    "        print \"TURNING IT OFF\"\n",
    "        requests.put('http://52.8.2.68:8080/data/imt550c0/hvac_mode_act?state=0')\n",
    "\n",
    "    time.sleep(20)\n",
    "    choice = randint(0,2)\n",
    "    X = X + 1\n",
    "#print \"Loop again\"\n",
    "\n",
    "print \"exited loop\"\n",
    "\n",
    "print(\"SHELL END\")\n"
   ]
  },
  {
   "cell_type": "code",
   "execution_count": null,
   "metadata": {
    "collapsed": true
   },
   "outputs": [],
   "source": []
  }
 ],
 "metadata": {
  "kernelspec": {
   "display_name": "Python 2",
   "language": "python",
   "name": "python2"
  },
  "language_info": {
   "codemirror_mode": {
    "name": "ipython",
    "version": 2
   },
   "file_extension": ".py",
   "mimetype": "text/x-python",
   "name": "python",
   "nbconvert_exporter": "python",
   "pygments_lexer": "ipython2",
   "version": "2.7.10"
  }
 },
 "nbformat": 4,
 "nbformat_minor": 0
}
